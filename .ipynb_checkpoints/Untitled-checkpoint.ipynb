{
 "cells": [
  {
   "cell_type": "code",
   "execution_count": null,
   "id": "23448e44-a773-4c99-98f2-8afad786d704",
   "metadata": {},
   "outputs": [],
   "source": [
    "import sklearn\n",
    "print(sklearn.__version__)"
   ]
  },
  {
   "cell_type": "code",
   "execution_count": 1,
   "id": "0cc1393b-8e3e-46ff-83dc-30be4cc4013e",
   "metadata": {},
   "outputs": [],
   "source": [
    "from sklearn.ensemble import RandomForestClassifier,GradientBoostingClassifier\n",
    "from sklearn.metrics import accuracy_score,confusion_matrix\n",
    "from sklearn.model_selection import train_test_split\n",
    "from sklearn.neighbors import KNeighborsClassifier\n",
    "from sklearn.datasets import make_classification\n",
    "from sklearn.preprocessing import OneHotEncoder\n",
    "from sklearn.preprocessing import LabelEncoder\n",
    "from sklearn.naive_bayes import MultinomialNB\n",
    "from sklearn.preprocessing import MultiLabelBinarizer\n",
    "from sklearn.model_selection import train_test_split\n",
    "from sklearn.linear_model import LogisticRegression\n",
    "from sklearn.ensemble import RandomForestClassifier\n",
    "from sklearn.multioutput import MultiOutputClassifier\n",
    "from sklearn.metrics import accuracy_score, hamming_loss, classification_report\n",
    "from sklearn.preprocessing import StandardScaler\n",
    "from sklearn.metrics import multilabel_confusion_matrix\n",
    "from sklearn.svm import SVC\n",
    "# from keras.models import Model, Sequential\n",
    "# from keras.layers import Dense, Input\n",
    "# from keras.callbacks import EarlyStopping\n",
    "# from keras.models import Model\n",
    "# from tensorflow.keras.layers import BatchNormalization, Dropout, LeakyReLU\n",
    "# from tensorflow.keras.regularizers import l2\n",
    "# from tensorflow.keras.optimizers import Adam\n",
    "import seaborn as sns\n",
    "from sklearn.svm import SVC\n",
    "import pandas as pd\n",
    "import numpy as np\n",
    "import matplotlib.pyplot as plt\n",
    "import seaborn as sns\n",
    "import warnings\n",
    "import pickle\n",
    "import os\n",
    "warnings.filterwarnings('ignore')\n",
    "pd.set_option('display.max_columns', None)"
   ]
  },
  {
   "cell_type": "code",
   "execution_count": 2,
   "id": "8359cebb-1291-42fe-afa5-5d6795840f76",
   "metadata": {},
   "outputs": [],
   "source": [
    "symptoms_df = pd.read_csv(\"Dataset\\symtoms_df.csv\")\n",
    "precautions_df = pd.read_csv(\"Dataset\\precautions_df.csv\")\n",
    "descriptions_df = pd.read_csv(\"Dataset\\description.csv\")\n",
    "medications_df = pd.read_csv(\"Dataset\\medications.csv\")\n",
    "training_df = pd.read_csv(\"Dataset\\Training.csv\")\n",
    "dataset = pd.read_csv(\"Dataset\\\\dataset.csv\")"
   ]
  },
  {
   "cell_type": "code",
   "execution_count": 3,
   "id": "1c8da880-cfd8-441b-bebe-274ee6abf76c",
   "metadata": {},
   "outputs": [],
   "source": [
    "X = training_df.drop('prognosis' ,axis=1)\n",
    "y = training_df['prognosis']"
   ]
  },
  {
   "cell_type": "code",
   "execution_count": 4,
   "id": "a8703f37-ac64-4579-8fe8-0465ce4a735f",
   "metadata": {},
   "outputs": [],
   "source": [
    "le = LabelEncoder()\n",
    "le.fit(y)\n",
    "Y = le.transform(y)"
   ]
  },
  {
   "cell_type": "code",
   "execution_count": 5,
   "id": "16a1621c-f8e0-45d3-a0c5-5a6bfb67dd5c",
   "metadata": {},
   "outputs": [
    {
     "data": {
      "text/plain": [
       "array([15, 15, 15, ..., 38, 35, 27])"
      ]
     },
     "execution_count": 5,
     "metadata": {},
     "output_type": "execute_result"
    }
   ],
   "source": [
    "Y"
   ]
  },
  {
   "cell_type": "code",
   "execution_count": 6,
   "id": "6a1fdaea-fc5c-43f3-bec7-24a58c0f1811",
   "metadata": {},
   "outputs": [
    {
     "data": {
      "text/plain": [
       "((3936, 132), (984, 132), (3936,), (984,))"
      ]
     },
     "execution_count": 6,
     "metadata": {},
     "output_type": "execute_result"
    }
   ],
   "source": [
    "X_test,X_train,y_test,y_train = train_test_split(X,Y,test_size =0.2 , random_state=42)\n",
    "X_test.shape,X_train.shape,y_test.shape,y_train.shape"
   ]
  },
  {
   "cell_type": "code",
   "execution_count": 7,
   "id": "b6a11859-70e2-47b4-9b06-58fcf7059fe3",
   "metadata": {},
   "outputs": [
    {
     "name": "stdout",
     "output_type": "stream",
     "text": [
      "SVC accuracy : 1.0\n",
      "SVC confusion matrix :\n",
      "[[102,   0,   0, ...,   0,   0,   0],\n",
      " [  0,  90,   0, ...,   0,   0,   0],\n",
      " [  0,   0,  96, ...,   0,   0,   0],\n",
      " ...,\n",
      " [  0,   0,   0, ...,  94,   0,   0],\n",
      " [  0,   0,   0, ...,   0,  98,   0],\n",
      " [  0,   0,   0, ...,   0,   0,  86]]\n",
      "Random Forest accuracy : 1.0\n",
      "Random Forest confusion matrix :\n",
      "[[102,   0,   0, ...,   0,   0,   0],\n",
      " [  0,  90,   0, ...,   0,   0,   0],\n",
      " [  0,   0,  96, ...,   0,   0,   0],\n",
      " ...,\n",
      " [  0,   0,   0, ...,  94,   0,   0],\n",
      " [  0,   0,   0, ...,   0,  98,   0],\n",
      " [  0,   0,   0, ...,   0,   0,  86]]\n",
      "KNeighbors accuracy : 1.0\n",
      "KNeighbors confusion matrix :\n",
      "[[102,   0,   0, ...,   0,   0,   0],\n",
      " [  0,  90,   0, ...,   0,   0,   0],\n",
      " [  0,   0,  96, ...,   0,   0,   0],\n",
      " ...,\n",
      " [  0,   0,   0, ...,  94,   0,   0],\n",
      " [  0,   0,   0, ...,   0,  98,   0],\n",
      " [  0,   0,   0, ...,   0,   0,  86]]\n",
      "Gradient Boosting accuracy : 0.9801829268292683\n",
      "Gradient Boosting confusion matrix :\n",
      "[[102,   0,   0, ...,   0,   0,   0],\n",
      " [  0,  90,   0, ...,   0,   0,   0],\n",
      " [  0,   0,  96, ...,   0,   0,   0],\n",
      " ...,\n",
      " [  0,   0,   0, ...,  88,   0,   0],\n",
      " [  0,   0,   0, ...,   0,  98,   0],\n",
      " [  0,   0,   0, ...,   0,   0,  86]]\n",
      "MultinomialNB accuracy : 0.9977134146341463\n",
      "MultinomialNB confusion matrix :\n",
      "[[102,   0,   0, ...,   0,   0,   0],\n",
      " [  0,  90,   0, ...,   0,   0,   0],\n",
      " [  0,   0,  96, ...,   0,   0,   0],\n",
      " ...,\n",
      " [  0,   0,   0, ...,  94,   0,   0],\n",
      " [  0,   0,   0, ...,   0,  98,   0],\n",
      " [  0,   0,   0, ...,   0,   0,  86]]\n",
      "Logistic Regression accuracy : 1.0\n",
      "Logistic Regression confusion matrix :\n",
      "[[102,   0,   0, ...,   0,   0,   0],\n",
      " [  0,  90,   0, ...,   0,   0,   0],\n",
      " [  0,   0,  96, ...,   0,   0,   0],\n",
      " ...,\n",
      " [  0,   0,   0, ...,  94,   0,   0],\n",
      " [  0,   0,   0, ...,   0,  98,   0],\n",
      " [  0,   0,   0, ...,   0,   0,  86]]\n"
     ]
    }
   ],
   "source": [
    "# Here we can train the top best models which can give best accuracy So i can create a Dictionary of models to check which model is more accurate.\n",
    "models = {\n",
    "      'SVC' : SVC(kernel='linear'),\n",
    "      'Random Forest' :RandomForestClassifier(random_state=42,n_estimators=100),\n",
    "      'KNeighbors' : KNeighborsClassifier(n_neighbors=5),\n",
    "      'Gradient Boosting': GradientBoostingClassifier(random_state=42,n_estimators=100),\n",
    "      'MultinomialNB' :MultinomialNB(),\n",
    "      'Logistic Regression' :LogisticRegression()\n",
    "}\n",
    "for model_name , model in models.items():\n",
    "    # Train modelvo\n",
    "    model.fit(X_train,y_train)\n",
    "    # test model\n",
    "    predictions = model.predict(X_test)\n",
    "    # calculate accuracy\n",
    "    accuracy = accuracy_score(y_test,predictions)\n",
    "    # calculate confusion matrix\n",
    "    cm = confusion_matrix(y_test,predictions)\n",
    "    # print results\n",
    "    print(f\"{model_name} accuracy : {accuracy}\")\n",
    "    print(f\"{model_name} confusion matrix :\")\n",
    "    print(np.array2string(cm,separator=', '))"
   ]
  },
  {
   "cell_type": "code",
   "execution_count": 8,
   "id": "ad45aefa-069f-4ddd-8080-e2f6d6a686f4",
   "metadata": {},
   "outputs": [
    {
     "data": {
      "text/plain": [
       "1.0"
      ]
     },
     "execution_count": 8,
     "metadata": {},
     "output_type": "execute_result"
    }
   ],
   "source": [
    "svc = SVC(kernel='linear')\n",
    "svc.fit(X_train,y_train)\n",
    "y_pred = svc.predict(X_test)\n",
    "acc = accuracy_score(y_pred,y_test)\n",
    "acc"
   ]
  },
  {
   "cell_type": "code",
   "execution_count": 9,
   "id": "345de0d5-a152-4bea-9031-a822d58841bc",
   "metadata": {},
   "outputs": [],
   "source": [
    "# with open('disease_prediction_model.pkl', 'wb') as file:\n",
    "#     pickle.dump(svc, file)"
   ]
  },
  {
   "cell_type": "code",
   "execution_count": 10,
   "id": "eecbdee7-530d-41e8-89ef-a1638ddad63c",
   "metadata": {},
   "outputs": [],
   "source": [
    "with open('disease_prediction_model.pkl', 'rb') as file:\n",
    "    svc = pickle.load(file)"
   ]
  },
  {
   "cell_type": "code",
   "execution_count": 11,
   "id": "685b2048-6349-47a6-9814-1ada82918f53",
   "metadata": {},
   "outputs": [
    {
     "data": {
      "text/plain": [
       "array([[1, 1, 0, 0, 0, 0, 0, 0, 0, 0, 0, 0, 0, 0, 1, 0, 0, 0, 0, 0, 0, 1,\n",
       "        0, 0, 0, 1, 0, 0, 0, 0, 0, 1, 0, 0, 0, 0, 0, 0, 0, 0, 0, 1, 0, 0,\n",
       "        0, 0, 0, 1, 1, 0, 0, 0, 0, 0, 0, 0, 0, 0, 0, 0, 0, 0, 0, 0, 0, 0,\n",
       "        0, 0, 0, 0, 0, 0, 0, 0, 0, 0, 0, 0, 0, 0, 0, 0, 0, 0, 0, 0, 0, 0,\n",
       "        0, 0, 0, 0, 0, 0, 0, 0, 0, 0, 0, 1, 0, 0, 0, 0, 0, 0, 0, 0, 0, 0,\n",
       "        0, 0, 0, 0, 0, 0, 0, 0, 0, 0, 0, 0, 0, 0, 0, 0, 0, 0, 0, 0, 0, 0]],\n",
       "      dtype=int64)"
      ]
     },
     "execution_count": 11,
     "metadata": {},
     "output_type": "execute_result"
    }
   ],
   "source": [
    "# 2d arry convert\n",
    "X_test.iloc[0].values.reshape(1,-1)"
   ]
  },
  {
   "cell_type": "code",
   "execution_count": 12,
   "id": "8c255b24-5d12-43b4-ae82-a328edf0326e",
   "metadata": {},
   "outputs": [
    {
     "name": "stdout",
     "output_type": "stream",
     "text": [
      "Model Predictions : [16]\n",
      "Actual Labels : 16\n"
     ]
    }
   ],
   "source": [
    "# now take a pred on this 2d array to check that our model pred correctly or not\n",
    "\n",
    "# test 1 :\n",
    "print('Model Predictions :',svc.predict(X_test.iloc[20].values.reshape(1,-1)))\n",
    "print('Actual Labels :', y_test[20])"
   ]
  },
  {
   "cell_type": "code",
   "execution_count": 13,
   "id": "e5948ea2-9e84-49a1-8bc8-9e6039486698",
   "metadata": {},
   "outputs": [
    {
     "name": "stdout",
     "output_type": "stream",
     "text": [
      "Model Predictions : [39]\n",
      "Actual Labels : 39\n"
     ]
    }
   ],
   "source": [
    "# now take a pred on this 2d array to check that our model pred correctly or not\n",
    "\n",
    "# test 2 :\n",
    "print('Model Predictions :',svc.predict(X_test.iloc[10].values.reshape(1,-1)))\n",
    "print('Actual Labels :', y_test[10])"
   ]
  },
  {
   "cell_type": "code",
   "execution_count": 47,
   "id": "5834258e-5c97-4791-a62b-7500873804d0",
   "metadata": {},
   "outputs": [],
   "source": [
    "def health_assist(dis):\n",
    "    disease_description = descriptions_df[descriptions_df['Disease'] == dis]['Description']\n",
    "    disease_description = \" \".join([w for w in disease_description])\n",
    "    precautions_to_take = precautions_df[precautions_df['Disease'] == dis][['Precaution_1','Precaution_2','Precaution_3','Precaution_4']]\n",
    "    precautions_to_take = [col for col in precautions_to_take.values]\n",
    "    medications = medications_df[medications_df['Disease'] == dis]['Medication']\n",
    "    medications = [medications for medications in medications.values]\n",
    "    \n",
    "\n",
    "    return disease_description,precautions_to_take,medications\n",
    "\n",
    "\n",
    "\n",
    "symptoms_dict = {'itching': 0, 'skin_rash': 1, 'nodal_skin_eruptions': 2, 'continuous_sneezing': 3, 'shivering': 4, 'chills': 5, 'joint_pain': 6, 'stomach_pain': 7, 'acidity': 8, 'ulcers_on_tongue': 9, 'muscle_wasting': 10, 'vomiting': 11, 'burning_micturition': 12, 'spotting_ urination': 13, 'fatigue': 14, 'weight_gain': 15, 'anxiety': 16, 'cold_hands_and_feets': 17, 'mood_swings': 18, 'weight_loss': 19, 'restlessness': 20, 'lethargy': 21, 'patches_in_throat': 22, 'irregular_sugar_level': 23, 'cough': 24, 'high_fever': 25, 'sunken_eyes': 26, 'breathlessness': 27, 'sweating': 28, 'dehydration': 29, 'indigestion': 30, 'headache': 31, 'yellowish_skin': 32, 'dark_urine': 33, 'nausea': 34, 'loss_of_appetite': 35, 'pain_behind_the_eyes': 36, 'back_pain': 37, 'constipation': 38, 'abdominal_pain': 39, 'diarrhoea': 40, 'mild_fever': 41, 'yellow_urine': 42, 'yellowing_of_eyes': 43, 'acute_liver_failure': 44, 'fluid_overload': 45, 'swelling_of_stomach': 46, 'swelled_lymph_nodes': 47, 'malaise': 48, 'blurred_and_distorted_vision': 49, 'phlegm': 50, 'throat_irritation': 51, 'redness_of_eyes': 52, 'sinus_pressure': 53, 'runny_nose': 54, 'congestion': 55, 'chest_pain': 56, 'weakness_in_limbs': 57, 'fast_heart_rate': 58, 'pain_during_bowel_movements': 59, 'pain_in_anal_region': 60, 'bloody_stool': 61, 'irritation_in_anus': 62, 'neck_pain': 63, 'dizziness': 64, 'cramps': 65, 'bruising': 66, 'obesity': 67, 'swollen_legs': 68, 'swollen_blood_vessels': 69, 'puffy_face_and_eyes': 70, 'enlarged_thyroid': 71, 'brittle_nails': 72, 'swollen_extremeties': 73, 'excessive_hunger': 74, 'extra_marital_contacts': 75, 'drying_and_tingling_lips': 76, 'slurred_speech': 77, 'knee_pain': 78, 'hip_joint_pain': 79, 'muscle_weakness': 80, 'stiff_neck': 81, 'swelling_joints': 82, 'movement_stiffness': 83, 'spinning_movements': 84, 'loss_of_balance': 85, 'unsteadiness': 86, 'weakness_of_one_body_side': 87, 'loss_of_smell': 88, 'bladder_discomfort': 89, 'foul_smell_of urine': 90, 'continuous_feel_of_urine': 91, 'passage_of_gases': 92, 'internal_itching': 93, 'toxic_look_(typhos)': 94, 'depression': 95, 'irritability': 96, 'muscle_pain': 97, 'altered_sensorium': 98, 'red_spots_over_body': 99, 'belly_pain': 100, 'abnormal_menstruation': 101, 'dischromic _patches': 102, 'watering_from_eyes': 103, 'increased_appetite': 104, 'polyuria': 105, 'family_history': 106, 'mucoid_sputum': 107, 'rusty_sputum': 108, 'lack_of_concentration': 109, 'visual_disturbances': 110, 'receiving_blood_transfusion': 111, 'receiving_unsterile_injections': 112, 'coma': 113, 'stomach_bleeding': 114, 'distention_of_abdomen': 115, 'history_of_alcohol_consumption': 116, 'fluid_overload.1': 117, 'blood_in_sputum': 118, 'prominent_veins_on_calf': 119, 'palpitations': 120, 'painful_walking': 121, 'pus_filled_pimples': 122, 'blackheads': 123, 'scurring': 124, 'skin_peeling': 125, 'silver_like_dusting': 126, 'small_dents_in_nails': 127, 'inflammatory_nails': 128, 'blister': 129, 'red_sore_around_nose': 130, 'yellow_crust_ooze': 131}\n",
    "diseases_list = {15: 'Fungal infection', 4: 'Allergy', 16: 'GERD', 9: 'Chronic cholestasis', 14: 'Drug Reaction', 33: 'Peptic ulcer diseae', 1: 'AIDS', 12: 'Diabetes ', 17: 'Gastroenteritis', 6: 'Bronchial Asthma', 23: 'Hypertension ', 30: 'Migraine', 7: 'Cervical spondylosis', 32: 'Paralysis (brain hemorrhage)', 28: 'Jaundice', 29: 'Malaria', 8: 'Chicken pox', 11: 'Dengue', 37: 'Typhoid', 40: 'hepatitis A', 19: 'Hepatitis B', 20: 'Hepatitis C', 21: 'Hepatitis D', 22: 'Hepatitis E', 3: 'Alcoholic hepatitis', 36: 'Tuberculosis', 10: 'Common Cold', 34: 'Pneumonia', 13: 'Dimorphic hemmorhoids(piles)', 18: 'Heart attack', 39: 'Varicose veins', 26: 'Hypothyroidism', 24: 'Hyperthyroidism', 25: 'Hypoglycemia', 31: 'Osteoarthristis', 5: 'Arthritis', 0: '(vertigo) Paroymsal  Positional Vertigo', 2: 'Acne', 38: 'Urinary tract infection', 35: 'Psoriasis', 27: 'Impetigo'}\n",
    "\n",
    "# model prediction function\n",
    "def get_predicted_disease_value(patient_symptoms):\n",
    "    input_vector = np.zeros(len(symptoms_dict))\n",
    "\n",
    "    for item in patient_symptoms:\n",
    "        input_vector[symptoms_dict[item]] = 1\n",
    "    return diseases_list[svc.predict([input_vector])[0]]"
   ]
  },
  {
   "cell_type": "code",
   "execution_count": 54,
   "id": "01822226-856a-4d55-9afc-724548750680",
   "metadata": {},
   "outputs": [
    {
     "name": "stdin",
     "output_type": "stream",
     "text": [
      "Enter your symptoms..... bladder_discomfort\n"
     ]
    },
    {
     "name": "stdout",
     "output_type": "stream",
     "text": [
      "================Predicted Disease=============\n",
      "Urinary tract infection\n",
      "================Description=============\n",
      "Urinary tract infection is an infection in any part of the urinary system.\n",
      "================Precautions=============\n",
      "1 :  drink plenty of water\n",
      "2 :  increase vitamin c intake\n",
      "3 :  drink cranberry juice\n",
      "4 :  take probiotics\n",
      "================Medications=============\n",
      "1 :  ['Antibiotics', 'Urinary analgesics', 'Phenazopyridine', 'Antispasmodics', 'Probiotics']\n"
     ]
    }
   ],
   "source": [
    "# Test \n",
    "symptoms = input(\"Enter your symptoms.....\")\n",
    "user_symptoms = [s.strip() for s in symptoms.split(',')]\n",
    "user_symptoms = [sym.strip(\"[]'\") for sym in user_symptoms]\n",
    "predicted_disease = get_predicted_disease_value(user_symptoms)\n",
    "disease_description,precautions_to_take,medications = health_assist(predicted_disease)\n",
    "\n",
    "# Print results\n",
    "print(\"================Predicted Disease=============\")\n",
    "print(predicted_disease)\n",
    "print(\"================Description=============\")\n",
    "print(disease_description)\n",
    "print(\"================Precautions=============\")\n",
    "i = 1\n",
    "for p_i in precautions_to_take[0]:\n",
    "    print(i, \": \",p_i)\n",
    "    i +=1\n",
    "print(\"================Medications=============\")\n",
    "i = 1\n",
    "for m_i in medications:\n",
    "    print(i, \": \",m_i)\n",
    "    i +=1"
   ]
  },
  {
   "cell_type": "code",
   "execution_count": 40,
   "id": "aeec7f68-3d0e-4729-a8b2-1bb55abc8e69",
   "metadata": {},
   "outputs": [
    {
     "name": "stdout",
     "output_type": "stream",
     "text": [
      "Fungal infection is a common skin condition caused by fungi. [array(['bath twice', 'use detol or neem in bathing water',\n",
      "       'keep infected area dry', 'use clean cloths'], dtype=object)] 0    ['Antifungal Cream', 'Fluconazole', 'Terbinafi...\n",
      "Name: Medication, dtype: object\n"
     ]
    }
   ],
   "source": [
    "print(disease_description,precautions_to_take,medications)"
   ]
  },
  {
   "cell_type": "code",
   "execution_count": 56,
   "id": "2110c27a-d279-40b6-a8d2-88db836e451c",
   "metadata": {},
   "outputs": [],
   "source": [
    "# import sklearn\n",
    "# print(sklearn.__version__)"
   ]
  },
  {
   "cell_type": "code",
   "execution_count": null,
   "id": "757a236c-e88d-427a-8921-f0d066a3123c",
   "metadata": {},
   "outputs": [],
   "source": []
  }
 ],
 "metadata": {
  "kernelspec": {
   "display_name": "Python 3 (ipykernel)",
   "language": "python",
   "name": "python3"
  },
  "language_info": {
   "codemirror_mode": {
    "name": "ipython",
    "version": 3
   },
   "file_extension": ".py",
   "mimetype": "text/x-python",
   "name": "python",
   "nbconvert_exporter": "python",
   "pygments_lexer": "ipython3",
   "version": "3.11.5"
  }
 },
 "nbformat": 4,
 "nbformat_minor": 5
}
